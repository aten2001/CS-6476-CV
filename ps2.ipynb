{
  "nbformat": 4,
  "nbformat_minor": 0,
  "metadata": {
    "colab": {
      "name": "ps2.ipynb",
      "version": "0.3.2",
      "provenance": [],
      "include_colab_link": true
    },
    "kernelspec": {
      "name": "python3",
      "display_name": "Python 3"
    }
  },
  "cells": [
    {
      "cell_type": "markdown",
      "metadata": {
        "id": "view-in-github",
        "colab_type": "text"
      },
      "source": [
        "<a href=\"https://colab.research.google.com/github/cdsjatin/CS-6476-CV/blob/master/ps2.ipynb\" target=\"_parent\"><img src=\"https://colab.research.google.com/assets/colab-badge.svg\" alt=\"Open In Colab\"/></a>"
      ]
    },
    {
      "metadata": {
        "id": "TJV0_5bBwEkQ",
        "colab_type": "code",
        "colab": {}
      },
      "cell_type": "code",
      "source": [
        "# ps2\n",
        "import os\n",
        "import numpy as np\n",
        "import cv2\n",
        "\n",
        "## 1-a\n",
        "# Read images\n",
        "L = cv2.imread(os.path.join('input', 'pair0-L.png'), 0) * (1.0 / 255.0)  # grayscale, [0, 1]\n",
        "R = cv2.imread(os.path.join('input', 'pair0-R.png'), 0) * (1.0 / 255.0)\n",
        "\n",
        "# Compute disparity (using method disparity_ssd defined in disparity_ssd.py)\n",
        "from disparity_ssd import disparity_ssd\n",
        "D_L = disparity_ssd(L, R)\n",
        "D_R = disparity_ssd(R, L)\n",
        "\n",
        "# TODO: Save output images (D_L as output/ps2-1-a-1.png and D_R as output/ps2-1-a-2.png)\n",
        "# Note: They may need to be scaled/shifted before saving to show results properly\n",
        "\n",
        "# TODO: Rest of your code here"
      ],
      "execution_count": 0,
      "outputs": []
    }
  ]
}